{
 "cells": [
  {
   "cell_type": "code",
   "execution_count": 1,
   "id": "86658bbe",
   "metadata": {
    "_cell_guid": "b1076dfc-b9ad-4769-8c92-a6c4dae69d19",
    "_uuid": "8f2839f25d086af736a60e9eeb907d3b93b6e0e5",
    "execution": {
     "iopub.execute_input": "2022-08-07T13:59:12.088999Z",
     "iopub.status.busy": "2022-08-07T13:59:12.088477Z",
     "iopub.status.idle": "2022-08-07T13:59:12.104412Z",
     "shell.execute_reply": "2022-08-07T13:59:12.103175Z"
    },
    "papermill": {
     "duration": 0.027322,
     "end_time": "2022-08-07T13:59:12.107254",
     "exception": false,
     "start_time": "2022-08-07T13:59:12.079932",
     "status": "completed"
    },
    "tags": []
   },
   "outputs": [
    {
     "name": "stdout",
     "output_type": "stream",
     "text": [
      "/kaggle/input/tabular-playground-series-aug-2022/sample_submission.csv\n",
      "/kaggle/input/tabular-playground-series-aug-2022/train.csv\n",
      "/kaggle/input/tabular-playground-series-aug-2022/test.csv\n"
     ]
    }
   ],
   "source": [
    "# This Python 3 environment comes with many helpful analytics libraries installed\n",
    "# It is defined by the kaggle/python Docker image: https://github.com/kaggle/docker-python\n",
    "# For example, here's several helpful packages to load\n",
    "\n",
    "import numpy as np # linear algebra\n",
    "import pandas as pd # data processing, CSV file I/O (e.g. pd.read_csv)\n",
    "\n",
    "# Input data files are available in the read-only \"../input/\" directory\n",
    "# For example, running this (by clicking run or pressing Shift+Enter) will list all files under the input directory\n",
    "\n",
    "import os\n",
    "filess = []\n",
    "for dirname, _, filenames in os.walk('/kaggle/input'):\n",
    "    for filename in filenames:\n",
    "        \n",
    "        f = (os.path.join(dirname, filename))\n",
    "        filess.append(f)\n",
    "        print(f)\n",
    "\n",
    "# You can write up to 20GB to the current directory (/kaggle/working/) that gets preserved as output when you create a version using \"Save & Run All\" \n",
    "# You can also write temporary files to /kaggle/temp/, but they won't be saved outside of the current session"
   ]
  },
  {
   "cell_type": "code",
   "execution_count": 2,
   "id": "df15f84c",
   "metadata": {
    "execution": {
     "iopub.execute_input": "2022-08-07T13:59:12.120847Z",
     "iopub.status.busy": "2022-08-07T13:59:12.120446Z",
     "iopub.status.idle": "2022-08-07T13:59:13.614243Z",
     "shell.execute_reply": "2022-08-07T13:59:13.613021Z"
    },
    "papermill": {
     "duration": 1.504132,
     "end_time": "2022-08-07T13:59:13.617451",
     "exception": false,
     "start_time": "2022-08-07T13:59:12.113319",
     "status": "completed"
    },
    "tags": []
   },
   "outputs": [],
   "source": [
    "### usefull packages\n",
    "from sklearn.metrics import confusion_matrix, accuracy_score, classification_report\n",
    "from sklearn.model_selection import train_test_split, cross_val_score, GridSearchCV\n",
    "from sklearn.tree import DecisionTreeClassifier\n",
    "from sklearn.ensemble import RandomForestClassifier,AdaBoostClassifier, BaggingClassifier,ExtraTreesClassifier,GradientBoostingClassifier \n",
    "from sklearn import preprocessing, pipeline\n",
    "\n",
    "### plotting\n",
    "import matplotlib.pyplot as plt\n",
    "import seaborn as sns\n",
    "sns.set()"
   ]
  },
  {
   "cell_type": "code",
   "execution_count": 3,
   "id": "7b9de1b2",
   "metadata": {
    "execution": {
     "iopub.execute_input": "2022-08-07T13:59:13.632239Z",
     "iopub.status.busy": "2022-08-07T13:59:13.631816Z",
     "iopub.status.idle": "2022-08-07T13:59:13.637145Z",
     "shell.execute_reply": "2022-08-07T13:59:13.635771Z"
    },
    "papermill": {
     "duration": 0.01552,
     "end_time": "2022-08-07T13:59:13.639593",
     "exception": false,
     "start_time": "2022-08-07T13:59:13.624073",
     "status": "completed"
    },
    "tags": []
   },
   "outputs": [],
   "source": [
    "### global variables \n",
    "RS = 143 # random state\n"
   ]
  },
  {
   "cell_type": "code",
   "execution_count": 4,
   "id": "6ee929d1",
   "metadata": {
    "execution": {
     "iopub.execute_input": "2022-08-07T13:59:13.654319Z",
     "iopub.status.busy": "2022-08-07T13:59:13.653645Z",
     "iopub.status.idle": "2022-08-07T13:59:13.768935Z",
     "shell.execute_reply": "2022-08-07T13:59:13.767924Z"
    },
    "papermill": {
     "duration": 0.12531,
     "end_time": "2022-08-07T13:59:13.771607",
     "exception": false,
     "start_time": "2022-08-07T13:59:13.646297",
     "status": "completed"
    },
    "tags": []
   },
   "outputs": [],
   "source": [
    "test_data = pd.read_csv('/kaggle/input/tabular-playground-series-aug-2022/test.csv')"
   ]
  },
  {
   "cell_type": "code",
   "execution_count": 5,
   "id": "6c7ad49c",
   "metadata": {
    "execution": {
     "iopub.execute_input": "2022-08-07T13:59:13.786582Z",
     "iopub.status.busy": "2022-08-07T13:59:13.785416Z",
     "iopub.status.idle": "2022-08-07T13:59:13.939277Z",
     "shell.execute_reply": "2022-08-07T13:59:13.937940Z"
    },
    "papermill": {
     "duration": 0.164428,
     "end_time": "2022-08-07T13:59:13.942369",
     "exception": false,
     "start_time": "2022-08-07T13:59:13.777941",
     "status": "completed"
    },
    "tags": []
   },
   "outputs": [
    {
     "name": "stdout",
     "output_type": "stream",
     "text": [
      "   id product_code  loading attribute_0 attribute_1  attribute_2  attribute_3  \\\n",
      "0   0            A    80.10  material_7  material_8            9            5   \n",
      "1   1            A    84.89  material_7  material_8            9            5   \n",
      "2   2            A    82.43  material_7  material_8            9            5   \n",
      "3   3            A   101.07  material_7  material_8            9            5   \n",
      "4   4            A   188.06  material_7  material_8            9            5   \n",
      "\n",
      "   measurement_0  measurement_1  measurement_2  ...  measurement_9  \\\n",
      "0              7              8              4  ...         10.672   \n",
      "1             14              3              3  ...         12.448   \n",
      "2             12              1              5  ...         12.715   \n",
      "3             13              2              6  ...         12.471   \n",
      "4              9              2              8  ...         10.337   \n",
      "\n",
      "   measurement_10  measurement_11  measurement_12  measurement_13  \\\n",
      "0          15.859          17.594          15.193          15.029   \n",
      "1          17.947          17.915          11.755          14.732   \n",
      "2          15.607             NaN          13.798          16.711   \n",
      "3          16.346          18.377          10.020          15.250   \n",
      "4          17.082          19.932          12.428          16.182   \n",
      "\n",
      "   measurement_14  measurement_15  measurement_16  measurement_17  failure  \n",
      "0             NaN          13.034          14.684         764.100        0  \n",
      "1          15.425          14.395          15.631         682.057        0  \n",
      "2          18.631          14.094          17.946         663.376        0  \n",
      "3          15.562          16.154          17.172         826.282        0  \n",
      "4          12.760          13.153          16.412         579.885        0  \n",
      "\n",
      "[5 rows x 26 columns]\n"
     ]
    }
   ],
   "source": [
    "main_data = pd.read_csv('/kaggle/input/tabular-playground-series-aug-2022/train.csv')\n",
    "print(main_data.head())"
   ]
  },
  {
   "cell_type": "code",
   "execution_count": 6,
   "id": "2ed7c9be",
   "metadata": {
    "execution": {
     "iopub.execute_input": "2022-08-07T13:59:13.958578Z",
     "iopub.status.busy": "2022-08-07T13:59:13.957405Z",
     "iopub.status.idle": "2022-08-07T13:59:13.963247Z",
     "shell.execute_reply": "2022-08-07T13:59:13.962033Z"
    },
    "papermill": {
     "duration": 0.016155,
     "end_time": "2022-08-07T13:59:13.965882",
     "exception": false,
     "start_time": "2022-08-07T13:59:13.949727",
     "status": "completed"
    },
    "tags": []
   },
   "outputs": [
    {
     "name": "stdout",
     "output_type": "stream",
     "text": [
      "(26570, 26)\n"
     ]
    }
   ],
   "source": [
    "totl_len = (main_data.shape)\n",
    "print(totl_len)\n"
   ]
  },
  {
   "cell_type": "code",
   "execution_count": 7,
   "id": "2415c704",
   "metadata": {
    "execution": {
     "iopub.execute_input": "2022-08-07T13:59:13.980161Z",
     "iopub.status.busy": "2022-08-07T13:59:13.979456Z",
     "iopub.status.idle": "2022-08-07T13:59:13.996492Z",
     "shell.execute_reply": "2022-08-07T13:59:13.995334Z"
    },
    "papermill": {
     "duration": 0.027679,
     "end_time": "2022-08-07T13:59:13.999660",
     "exception": false,
     "start_time": "2022-08-07T13:59:13.971981",
     "status": "completed"
    },
    "tags": []
   },
   "outputs": [
    {
     "name": "stdout",
     "output_type": "stream",
     "text": [
      "                       0\n",
      "id              0.000000\n",
      "product_code    0.000000\n",
      "loading         0.940911\n",
      "attribute_0     0.000000\n",
      "attribute_1     0.000000\n",
      "attribute_2     0.000000\n",
      "attribute_3     0.000000\n",
      "measurement_0   0.000000\n",
      "measurement_1   0.000000\n",
      "measurement_2   0.000000\n",
      "measurement_3   1.433948\n",
      "measurement_4   2.024840\n",
      "measurement_5   2.544223\n",
      "measurement_6   2.995860\n",
      "measurement_7   3.526534\n",
      "measurement_8   3.944298\n",
      "measurement_9   4.617990\n",
      "measurement_10  4.892736\n",
      "measurement_11  5.525028\n",
      "measurement_12  6.025593\n",
      "measurement_13  6.676703\n",
      "measurement_14  7.053067\n",
      "measurement_15  7.561159\n",
      "measurement_16  7.941287\n",
      "measurement_17  8.596161\n",
      "failure         0.000000\n"
     ]
    }
   ],
   "source": [
    "### percentage of missing values of each column\n",
    "\n",
    "nans = pd.DataFrame(main_data.isna().sum())\n",
    "nas = (nans/totl_len[0])*100\n",
    "\n",
    "print(nas)\n"
   ]
  },
  {
   "cell_type": "code",
   "execution_count": 8,
   "id": "3de9d895",
   "metadata": {
    "execution": {
     "iopub.execute_input": "2022-08-07T13:59:14.014568Z",
     "iopub.status.busy": "2022-08-07T13:59:14.013957Z",
     "iopub.status.idle": "2022-08-07T13:59:14.544315Z",
     "shell.execute_reply": "2022-08-07T13:59:14.542617Z"
    },
    "papermill": {
     "duration": 0.541303,
     "end_time": "2022-08-07T13:59:14.547753",
     "exception": false,
     "start_time": "2022-08-07T13:59:14.006450",
     "status": "completed"
    },
    "tags": []
   },
   "outputs": [
    {
     "data": {
      "image/png": "[encoded data removed]",
      "text/plain": [
       "<Figure size 432x288 with 2 Axes>"
      ]
     },
     "metadata": {},
     "output_type": "display_data"
    }
   ],
   "source": [
    "\n",
    "# print(main_data.corr())\n",
    "sns.heatmap(abs(main_data.iloc[:,1:].corr()),cmap='GnBu')\n",
    "plt.show()"
   ]
  },
  {
   "cell_type": "code",
   "execution_count": 9,
   "id": "44cd8df8",
   "metadata": {
    "execution": {
     "iopub.execute_input": "2022-08-07T13:59:14.564224Z",
     "iopub.status.busy": "2022-08-07T13:59:14.563255Z",
     "iopub.status.idle": "2022-08-07T13:59:14.608658Z",
     "shell.execute_reply": "2022-08-07T13:59:14.607708Z"
    },
    "papermill": {
     "duration": 0.057472,
     "end_time": "2022-08-07T13:59:14.612698",
     "exception": false,
     "start_time": "2022-08-07T13:59:14.555226",
     "status": "completed"
    },
    "tags": []
   },
   "outputs": [
    {
     "name": "stdout",
     "output_type": "stream",
     "text": [
      "id                  int64\n",
      "product_code       object\n",
      "loading           float64\n",
      "attribute_0        object\n",
      "attribute_1        object\n",
      "attribute_2         int64\n",
      "attribute_3         int64\n",
      "measurement_0       int64\n",
      "measurement_1       int64\n",
      "measurement_2       int64\n",
      "measurement_3     float64\n",
      "measurement_4     float64\n",
      "measurement_5     float64\n",
      "measurement_6     float64\n",
      "measurement_7     float64\n",
      "measurement_8     float64\n",
      "measurement_9     float64\n",
      "measurement_10    float64\n",
      "measurement_11    float64\n",
      "measurement_12    float64\n",
      "measurement_13    float64\n",
      "measurement_14    float64\n",
      "measurement_15    float64\n",
      "measurement_16    float64\n",
      "measurement_17    float64\n",
      "failure             int64\n",
      "dtype: object\n",
      "[    0     1     2 ... 26567 26568 26569]\n",
      "['A' 'B' 'C' 'D' 'E']\n",
      "[ 33.16  39.45  40.81 ... 374.33 385.86    nan]\n",
      "['material_5' 'material_7']\n",
      "['material_5' 'material_6' 'material_8']\n",
      "[5 6 8 9]\n",
      "[5 6 8 9]\n",
      "[ 0  1  2  3  4  5  6  7  8  9 10 11 12 13 14 15 16 17 18 19 20 21 22 23\n",
      " 24 25 26 27 29]\n",
      "[ 0  1  2  3  4  5  6  7  8  9 10 11 12 13 14 15 16 17 18 19 20 21 22 23\n",
      " 24 25 26 27 28 29]\n",
      "[ 0  1  2  3  4  5  6  7  8  9 10 11 12 13 14 15 16 17 18 19 20 21 22 23\n",
      " 24]\n",
      "[13.968 14.1   14.166 ... 21.336 21.499    nan]\n",
      "[ 8.008  8.097  8.155 ... 15.379 16.484    nan]\n",
      "[12.073 12.813 13.395 ... 21.097 21.425    nan]\n",
      "[12.715 13.566 13.839 ... 21.329 21.543    nan]\n",
      "[ 7.968  7.973  8.027 ... 15.359 15.419    nan]\n",
      "[15.217 15.22  15.268 ... 23.328 23.807    nan]\n",
      "[ 7.537  7.701  7.78  ... 15.154 15.412    nan]\n",
      "[ 9.323  9.54   9.676 ... 21.761 22.479    nan]\n",
      "[12.461 12.62  12.703 ... 25.429 25.64     nan]\n",
      "[ 5.167  5.181  5.489 ... 17.594 17.663    nan]\n",
      "[10.89  11.035 11.052 ... 22.388 22.713    nan]\n",
      "[ 9.14   9.593  9.792 ... 21.94  22.303    nan]\n",
      "[ 9.104  9.158  9.255 ... 21.515 21.626    nan]\n",
      "[ 9.701 10.064 10.264 ... 23.164 24.094    nan]\n",
      "[ 196.787  206.571  231.396 ... 1181.998 1312.794      nan]\n",
      "[0 1]\n"
     ]
    }
   ],
   "source": [
    "print(main_data.dtypes)\n",
    "for kol in main_data.columns:\n",
    "    li = (main_data[kol].unique())\n",
    "    li.sort()\n",
    "    print(li)"
   ]
  },
  {
   "cell_type": "code",
   "execution_count": 10,
   "id": "5cb89693",
   "metadata": {
    "execution": {
     "iopub.execute_input": "2022-08-07T13:59:14.629951Z",
     "iopub.status.busy": "2022-08-07T13:59:14.629348Z",
     "iopub.status.idle": "2022-08-07T13:59:14.687501Z",
     "shell.execute_reply": "2022-08-07T13:59:14.686336Z"
    },
    "papermill": {
     "duration": 0.069294,
     "end_time": "2022-08-07T13:59:14.689919",
     "exception": false,
     "start_time": "2022-08-07T13:59:14.620625",
     "status": "completed"
    },
    "tags": []
   },
   "outputs": [
    {
     "data": {
      "text/plain": [
       "True"
      ]
     },
     "execution_count": 10,
     "metadata": {},
     "output_type": "execute_result"
    }
   ],
   "source": [
    "\n",
    "10.264 in main_data.values"
   ]
  },
  {
   "cell_type": "code",
   "execution_count": 11,
   "id": "0073ed80",
   "metadata": {
    "execution": {
     "iopub.execute_input": "2022-08-07T13:59:14.705454Z",
     "iopub.status.busy": "2022-08-07T13:59:14.705030Z",
     "iopub.status.idle": "2022-08-07T13:59:14.748655Z",
     "shell.execute_reply": "2022-08-07T13:59:14.747519Z"
    },
    "papermill": {
     "duration": 0.054547,
     "end_time": "2022-08-07T13:59:14.751379",
     "exception": false,
     "start_time": "2022-08-07T13:59:14.696832",
     "status": "completed"
    },
    "tags": []
   },
   "outputs": [
    {
     "name": "stdout",
     "output_type": "stream",
     "text": [
      "   id  product_code  loading attribute_0  attribute_1  attribute_2  \\\n",
      "0   0             0    80.10           7            2            9   \n",
      "1   1             0    84.89           7            2            9   \n",
      "2   2             0    82.43           7            2            9   \n",
      "3   3             0   101.07           7            2            9   \n",
      "4   4             0   188.06           7            2            9   \n",
      "\n",
      "   attribute_3  measurement_0  measurement_1  measurement_2  ...  \\\n",
      "0            5              7              8              4  ...   \n",
      "1            5             14              3              3  ...   \n",
      "2            5             12              1              5  ...   \n",
      "3            5             13              2              6  ...   \n",
      "4            5              9              2              8  ...   \n",
      "\n",
      "   measurement_9  measurement_10  measurement_11  measurement_12  \\\n",
      "0         10.672          15.859          17.594          15.193   \n",
      "1         12.448          17.947          17.915          11.755   \n",
      "2         12.715          15.607             NaN          13.798   \n",
      "3         12.471          16.346          18.377          10.020   \n",
      "4         10.337          17.082          19.932          12.428   \n",
      "\n",
      "   measurement_13  measurement_14  measurement_15  measurement_16  \\\n",
      "0          15.029             NaN          13.034          14.684   \n",
      "1          14.732          15.425          14.395          15.631   \n",
      "2          16.711          18.631          14.094          17.946   \n",
      "3          15.250          15.562          16.154          17.172   \n",
      "4          16.182          12.760          13.153          16.412   \n",
      "\n",
      "   measurement_17  failure  \n",
      "0         764.100        0  \n",
      "1         682.057        0  \n",
      "2         663.376        0  \n",
      "3         826.282        0  \n",
      "4         579.885        0  \n",
      "\n",
      "[5 rows x 26 columns]\n"
     ]
    }
   ],
   "source": [
    "sub_df = main_data.copy()\n",
    "\n",
    "label_encod = preprocessing.LabelEncoder()\n",
    "product_code_en= label_encod.fit(sub_df['product_code'])\n",
    "sub_df['product_code']  =product_code_en.transform(sub_df['product_code'])\n",
    "\n",
    "\n",
    "attribute_0_en = label_encod.fit(sub_df['attribute_0'])\n",
    "# sub_df['attribute_0'] = attribute_0_en.transform(sub_df['attribute_0'])\n",
    "\n",
    "\n",
    "attribute_1_en = label_encod.fit(sub_df['attribute_1'])\n",
    "sub_df['attribute_1'] = attribute_0_en.transform(sub_df['attribute_1'])\n",
    "\n",
    "\n",
    "sub_df['attribute_0'] = (sub_df['attribute_0'].apply(lambda x:x.split('_')[1]))\n",
    "\n",
    "# for kol in sub_df.columns:\n",
    "#     sub_df = sub_df[(sub_df[kol] != 'ffill')]\n",
    "\n",
    "print(sub_df.head())\n"
   ]
  },
  {
   "cell_type": "code",
   "execution_count": 12,
   "id": "96b28896",
   "metadata": {
    "execution": {
     "iopub.execute_input": "2022-08-07T13:59:14.767486Z",
     "iopub.status.busy": "2022-08-07T13:59:14.767066Z",
     "iopub.status.idle": "2022-08-07T13:59:14.802239Z",
     "shell.execute_reply": "2022-08-07T13:59:14.800988Z"
    },
    "papermill": {
     "duration": 0.046185,
     "end_time": "2022-08-07T13:59:14.804864",
     "exception": false,
     "start_time": "2022-08-07T13:59:14.758679",
     "status": "completed"
    },
    "tags": []
   },
   "outputs": [],
   "source": [
    "sub_df.drop(['id',\"product_code\", \"attribute_1\"], axis=1, inplace=True)\n",
    "sub_df = sub_df.dropna().reset_index(drop=True)#.ffill().bfill()\n",
    "inputs = sub_df.iloc[:,:-1].values\n",
    "outputs = sub_df.iloc[:,-1].values\n",
    "\n",
    "\n",
    "train_inputs, test_inputs, train_outputs,test_outputs = train_test_split(inputs,outputs,test_size=0.5)\n"
   ]
  },
  {
   "cell_type": "code",
   "execution_count": 13,
   "id": "f7407f48",
   "metadata": {
    "execution": {
     "iopub.execute_input": "2022-08-07T13:59:14.820671Z",
     "iopub.status.busy": "2022-08-07T13:59:14.820274Z",
     "iopub.status.idle": "2022-08-07T13:59:14.827317Z",
     "shell.execute_reply": "2022-08-07T13:59:14.826157Z"
    },
    "papermill": {
     "duration": 0.017737,
     "end_time": "2022-08-07T13:59:14.829607",
     "exception": false,
     "start_time": "2022-08-07T13:59:14.811870",
     "status": "completed"
    },
    "tags": []
   },
   "outputs": [
    {
     "data": {
      "text/plain": [
       "array([1, 0, 0, ..., 0, 1, 0])"
      ]
     },
     "execution_count": 13,
     "metadata": {},
     "output_type": "execute_result"
    }
   ],
   "source": [
    "len(train_inputs)\n",
    "train_outputs\n",
    "# list(range(2,25))"
   ]
  },
  {
   "cell_type": "code",
   "execution_count": 14,
   "id": "09b94ad6",
   "metadata": {
    "execution": {
     "iopub.execute_input": "2022-08-07T13:59:14.846558Z",
     "iopub.status.busy": "2022-08-07T13:59:14.845771Z",
     "iopub.status.idle": "2022-08-07T13:59:36.145449Z",
     "shell.execute_reply": "2022-08-07T13:59:36.144163Z"
    },
    "papermill": {
     "duration": 21.311547,
     "end_time": "2022-08-07T13:59:36.148871",
     "exception": false,
     "start_time": "2022-08-07T13:59:14.837324",
     "status": "completed"
    },
    "tags": []
   },
   "outputs": [
    {
     "name": "stdout",
     "output_type": "stream",
     "text": [
      "*************************\n",
      "train outputs data of size :6091\n",
      "*************************\n",
      "accuracy metric: 0.7864061730421934 \n",
      "\n",
      "classification report: \n",
      "              precision    recall  f1-score   support\n",
      "\n",
      "           0       0.79      1.00      0.88      4790\n",
      "           1       0.00      0.00      0.00      1301\n",
      "\n",
      "    accuracy                           0.79      6091\n",
      "   macro avg       0.39      0.50      0.44      6091\n",
      "weighted avg       0.62      0.79      0.69      6091\n",
      " \n",
      "\n",
      "confusion matrix: \n",
      "[[4790    0]\n",
      " [1301    0]]\n",
      "\n",
      "*************************\n",
      "trains tests outputs data of size :6092\n",
      "*************************\n",
      "accuracy metric: 0.7939921208141826 \n",
      "\n",
      "classification report: \n",
      "              precision    recall  f1-score   support\n",
      "\n",
      "           0       0.79      1.00      0.89      4837\n",
      "           1       0.00      0.00      0.00      1255\n",
      "\n",
      "    accuracy                           0.79      6092\n",
      "   macro avg       0.40      0.50      0.44      6092\n",
      "weighted avg       0.63      0.79      0.70      6092\n",
      " \n",
      "\n",
      "confusion matrix: \n",
      "[[4837    0]\n",
      " [1255    0]]\n"
     ]
    },
    {
     "name": "stderr",
     "output_type": "stream",
     "text": [
      "/opt/conda/lib/python3.7/site-packages/sklearn/metrics/_classification.py:1318: UndefinedMetricWarning: Precision and F-score are ill-defined and being set to 0.0 in labels with no predicted samples. Use `zero_division` parameter to control this behavior.\n",
      "  _warn_prf(average, modifier, msg_start, len(result))\n",
      "/opt/conda/lib/python3.7/site-packages/sklearn/metrics/_classification.py:1318: UndefinedMetricWarning: Precision and F-score are ill-defined and being set to 0.0 in labels with no predicted samples. Use `zero_division` parameter to control this behavior.\n",
      "  _warn_prf(average, modifier, msg_start, len(result))\n",
      "/opt/conda/lib/python3.7/site-packages/sklearn/metrics/_classification.py:1318: UndefinedMetricWarning: Precision and F-score are ill-defined and being set to 0.0 in labels with no predicted samples. Use `zero_division` parameter to control this behavior.\n",
      "  _warn_prf(average, modifier, msg_start, len(result))\n",
      "/opt/conda/lib/python3.7/site-packages/sklearn/metrics/_classification.py:1318: UndefinedMetricWarning: Precision and F-score are ill-defined and being set to 0.0 in labels with no predicted samples. Use `zero_division` parameter to control this behavior.\n",
      "  _warn_prf(average, modifier, msg_start, len(result))\n",
      "/opt/conda/lib/python3.7/site-packages/sklearn/metrics/_classification.py:1318: UndefinedMetricWarning: Precision and F-score are ill-defined and being set to 0.0 in labels with no predicted samples. Use `zero_division` parameter to control this behavior.\n",
      "  _warn_prf(average, modifier, msg_start, len(result))\n",
      "/opt/conda/lib/python3.7/site-packages/sklearn/metrics/_classification.py:1318: UndefinedMetricWarning: Precision and F-score are ill-defined and being set to 0.0 in labels with no predicted samples. Use `zero_division` parameter to control this behavior.\n",
      "  _warn_prf(average, modifier, msg_start, len(result))\n"
     ]
    }
   ],
   "source": [
    "### modeling\n",
    "\n",
    "\n",
    "dt_classi = DecisionTreeClassifier(max_depth=5, random_state=RS)\n",
    "        \n",
    "dt_params = {'max_depth':list(range(2,25)),\n",
    "            'criterion':[\"gini\", \"entropy\"],\n",
    "            'splitter':['best','random'],\n",
    "            'max_features':['auto','sqrt','log2']\n",
    "            }\n",
    "dt_model = GridSearchCV(dt_classi,dt_params, cv=3,scoring='roc_auc')\n",
    "\n",
    "dt_model.fit(train_inputs,train_outputs)\n",
    "\n",
    "### train data , accuracy checks and developments\n",
    "train_outputs_pred = dt_model.predict(train_inputs)\n",
    "print(f'*************************\\ntrain outputs data of size :{len(train_outputs_pred)}\\n*************************')\n",
    "print(f'accuracy metric: {accuracy_score(train_outputs, train_outputs_pred)} \\n')\n",
    "print(f'classification report: \\n{classification_report(train_outputs, train_outputs_pred)} \\n')\n",
    "print(f'confusion matrix: \\n{confusion_matrix(train_outputs, train_outputs_pred)}\\n')\n",
    "\n",
    "\n",
    "\n",
    "### trains test data, accuracy checks\n",
    "test_outputs_pred = dt_model.predict(test_inputs)\n",
    "\n",
    "print(f'*************************\\ntrains tests outputs data of size :{len(test_outputs_pred)}\\n*************************')\n",
    "print(f'accuracy metric: {accuracy_score(test_outputs, test_outputs_pred)} \\n')\n",
    "print(f'classification report: \\n{classification_report(test_outputs, test_outputs_pred)} \\n')\n",
    "print(f'confusion matrix: \\n{confusion_matrix(test_outputs, test_outputs_pred)}')\n",
    "\n"
   ]
  },
  {
   "cell_type": "code",
   "execution_count": 15,
   "id": "05a8db08",
   "metadata": {
    "execution": {
     "iopub.execute_input": "2022-08-07T13:59:36.165824Z",
     "iopub.status.busy": "2022-08-07T13:59:36.165414Z",
     "iopub.status.idle": "2022-08-07T13:59:36.172197Z",
     "shell.execute_reply": "2022-08-07T13:59:36.171078Z"
    },
    "papermill": {
     "duration": 0.018235,
     "end_time": "2022-08-07T13:59:36.174390",
     "exception": false,
     "start_time": "2022-08-07T13:59:36.156155",
     "status": "completed"
    },
    "tags": []
   },
   "outputs": [
    {
     "data": {
      "text/plain": [
       "{'criterion': 'entropy',\n",
       " 'max_depth': 2,\n",
       " 'max_features': 'auto',\n",
       " 'splitter': 'best'}"
      ]
     },
     "execution_count": 15,
     "metadata": {},
     "output_type": "execute_result"
    }
   ],
   "source": [
    "dt_model.best_params_"
   ]
  },
  {
   "cell_type": "code",
   "execution_count": 16,
   "id": "faecb06c",
   "metadata": {
    "execution": {
     "iopub.execute_input": "2022-08-07T13:59:36.190965Z",
     "iopub.status.busy": "2022-08-07T13:59:36.190259Z",
     "iopub.status.idle": "2022-08-07T13:59:36.226400Z",
     "shell.execute_reply": "2022-08-07T13:59:36.224508Z"
    },
    "papermill": {
     "duration": 0.047161,
     "end_time": "2022-08-07T13:59:36.228956",
     "exception": false,
     "start_time": "2022-08-07T13:59:36.181795",
     "status": "completed"
    },
    "tags": []
   },
   "outputs": [
    {
     "name": "stdout",
     "output_type": "stream",
     "text": [
      "[26570 26571 26572 ... 47342 47343 47344]\n",
      "['F' 'G' 'H' 'I']\n",
      "[ 37.7   42.77  42.86 ... 362.7  385.57    nan]\n",
      "['material_5' 'material_7']\n",
      "['material_5' 'material_6' 'material_7']\n",
      "[6 7 9]\n",
      "[4 5 7 9]\n",
      "[ 0  1  2  3  4  5  6  7  8  9 10 11 12 13 14 15 16 17 18 19 20 21 22 23\n",
      " 24 25 26 28 29 30]\n",
      "[ 0  1  2  3  4  5  6  7  8  9 10 11 12 13 14 15 16 17 18 19 20 21 22 23\n",
      " 24 25 26 27 28 29 31 32 33]\n",
      "[ 0  1  2  3  4  5  6  7  8  9 10 11 12 13 14 15 16 17 18 19 20 21 22 23\n",
      " 24 25 26 28]\n",
      "[13.565 13.637 14.132 ... 21.306 21.389    nan]\n",
      "[ 7.384  8.009  8.037 ... 15.268 15.623    nan]\n",
      "[12.215 13.439 13.474 ... 21.11  21.681    nan]\n",
      "[13.539 13.551 13.626 ... 21.131 21.183    nan]\n",
      "[ 7.853  8.041  8.085 ... 15.47  15.828    nan]\n",
      "[14.885 14.971 15.206 ... 22.828 23.092    nan]\n",
      "[ 7.578  7.669  7.7   ... 15.086 15.091    nan]\n",
      "[ 9.167  9.386  9.403 ... 22.259 23.354    nan]\n",
      "[13.127 13.146 13.151 ... 24.648 24.95     nan]\n",
      "[ 6.116  6.154  6.273 ... 17.686 18.962    nan]\n",
      "[ 9.209  9.892  9.903 ... 21.071 21.677    nan]\n",
      "[ 8.415  9.277  9.799 ... 22.529 23.14     nan]\n",
      "[ 8.417  9.16   9.182 ... 22.012 22.097    nan]\n",
      "[10.162 10.308 10.576 ... 22.116 22.27     nan]\n",
      "[   1.671   87.635  140.695 ... 1241.182 1242.786      nan]\n"
     ]
    }
   ],
   "source": [
    "for kol in test_data.columns:\n",
    "    li = (test_data[kol].unique())\n",
    "    li.sort()\n",
    "    print(li)"
   ]
  },
  {
   "cell_type": "code",
   "execution_count": 17,
   "id": "ee2b834a",
   "metadata": {
    "execution": {
     "iopub.execute_input": "2022-08-07T13:59:36.245574Z",
     "iopub.status.busy": "2022-08-07T13:59:36.245152Z",
     "iopub.status.idle": "2022-08-07T13:59:36.294931Z",
     "shell.execute_reply": "2022-08-07T13:59:36.293781Z"
    },
    "papermill": {
     "duration": 0.061206,
     "end_time": "2022-08-07T13:59:36.297650",
     "exception": false,
     "start_time": "2022-08-07T13:59:36.236444",
     "status": "completed"
    },
    "tags": []
   },
   "outputs": [
    {
     "data": {
      "text/plain": [
       "True"
      ]
     },
     "execution_count": 17,
     "metadata": {},
     "output_type": "execute_result"
    }
   ],
   "source": [
    "('I' in test_data.values)"
   ]
  },
  {
   "cell_type": "code",
   "execution_count": 18,
   "id": "78af2ede",
   "metadata": {
    "execution": {
     "iopub.execute_input": "2022-08-07T13:59:36.315910Z",
     "iopub.status.busy": "2022-08-07T13:59:36.315181Z",
     "iopub.status.idle": "2022-08-07T13:59:36.379794Z",
     "shell.execute_reply": "2022-08-07T13:59:36.378494Z"
    },
    "papermill": {
     "duration": 0.077088,
     "end_time": "2022-08-07T13:59:36.382743",
     "exception": false,
     "start_time": "2022-08-07T13:59:36.305655",
     "status": "completed"
    },
    "tags": []
   },
   "outputs": [],
   "source": [
    "sub_test_data  = test_data.copy()\n",
    "sub_test_data.drop(['id',\"product_code\",\"attribute_1\"], axis=1, inplace=True)\n",
    "sub_test_data['attribute_0'] = (sub_test_data['attribute_0'].apply(lambda x:x.split('_')[1]))\n",
    "indx =  test_data.iloc[:,0]\n",
    "sub_test_data = sub_test_data.ffill()\n",
    "\n",
    "# sub_test_data['attribute_0'] = attribute_0_en.transform(sub_test_data['attribute_0'])\n",
    "# sub_test_data['product_code'] = product_code_en.transform(sub_test_data['product_code'])\n",
    "\n",
    "final = dt_model.predict(sub_test_data.values)"
   ]
  },
  {
   "cell_type": "code",
   "execution_count": 19,
   "id": "b641e45f",
   "metadata": {
    "execution": {
     "iopub.execute_input": "2022-08-07T13:59:36.400060Z",
     "iopub.status.busy": "2022-08-07T13:59:36.399681Z",
     "iopub.status.idle": "2022-08-07T13:59:36.404719Z",
     "shell.execute_reply": "2022-08-07T13:59:36.403915Z"
    },
    "papermill": {
     "duration": 0.017072,
     "end_time": "2022-08-07T13:59:36.407784",
     "exception": false,
     "start_time": "2022-08-07T13:59:36.390712",
     "status": "completed"
    },
    "tags": []
   },
   "outputs": [
    {
     "name": "stdout",
     "output_type": "stream",
     "text": [
      "(20775, 22)\n"
     ]
    }
   ],
   "source": [
    "print(sub_test_data.shape)#['attribute_0'].unique())"
   ]
  },
  {
   "cell_type": "code",
   "execution_count": 20,
   "id": "a00d351d",
   "metadata": {
    "execution": {
     "iopub.execute_input": "2022-08-07T13:59:36.424853Z",
     "iopub.status.busy": "2022-08-07T13:59:36.424428Z",
     "iopub.status.idle": "2022-08-07T13:59:36.431668Z",
     "shell.execute_reply": "2022-08-07T13:59:36.430527Z"
    },
    "papermill": {
     "duration": 0.018565,
     "end_time": "2022-08-07T13:59:36.434070",
     "exception": false,
     "start_time": "2022-08-07T13:59:36.415505",
     "status": "completed"
    },
    "tags": []
   },
   "outputs": [],
   "source": [
    "final = pd.DataFrame({'failure':final,'id':indx})\n",
    "final.set_index('id', inplace = True)"
   ]
  },
  {
   "cell_type": "code",
   "execution_count": 21,
   "id": "2dcc7ac3",
   "metadata": {
    "execution": {
     "iopub.execute_input": "2022-08-07T13:59:36.451658Z",
     "iopub.status.busy": "2022-08-07T13:59:36.451217Z",
     "iopub.status.idle": "2022-08-07T13:59:36.463645Z",
     "shell.execute_reply": "2022-08-07T13:59:36.462375Z"
    },
    "papermill": {
     "duration": 0.023899,
     "end_time": "2022-08-07T13:59:36.466013",
     "exception": false,
     "start_time": "2022-08-07T13:59:36.442114",
     "status": "completed"
    },
    "tags": []
   },
   "outputs": [
    {
     "data": {
      "text/html": [
       "<div>\n",
       "<style scoped>\n",
       "    .dataframe tbody tr th:only-of-type {\n",
       "        vertical-align: middle;\n",
       "    }\n",
       "\n",
       "    .dataframe tbody tr th {\n",
       "        vertical-align: top;\n",
       "    }\n",
       "\n",
       "    .dataframe thead th {\n",
       "        text-align: right;\n",
       "    }\n",
       "</style>\n",
       "<table border=\"1\" class=\"dataframe\">\n",
       "  <thead>\n",
       "    <tr style=\"text-align: right;\">\n",
       "      <th></th>\n",
       "      <th>failure</th>\n",
       "    </tr>\n",
       "    <tr>\n",
       "      <th>id</th>\n",
       "      <th></th>\n",
       "    </tr>\n",
       "  </thead>\n",
       "  <tbody>\n",
       "    <tr>\n",
       "      <th>26570</th>\n",
       "      <td>0</td>\n",
       "    </tr>\n",
       "    <tr>\n",
       "      <th>26571</th>\n",
       "      <td>0</td>\n",
       "    </tr>\n",
       "    <tr>\n",
       "      <th>26572</th>\n",
       "      <td>0</td>\n",
       "    </tr>\n",
       "    <tr>\n",
       "      <th>26573</th>\n",
       "      <td>0</td>\n",
       "    </tr>\n",
       "    <tr>\n",
       "      <th>26574</th>\n",
       "      <td>0</td>\n",
       "    </tr>\n",
       "  </tbody>\n",
       "</table>\n",
       "</div>"
      ],
      "text/plain": [
       "       failure\n",
       "id            \n",
       "26570        0\n",
       "26571        0\n",
       "26572        0\n",
       "26573        0\n",
       "26574        0"
      ]
     },
     "execution_count": 21,
     "metadata": {},
     "output_type": "execute_result"
    }
   ],
   "source": [
    "final.head()"
   ]
  },
  {
   "cell_type": "code",
   "execution_count": 22,
   "id": "87714268",
   "metadata": {
    "execution": {
     "iopub.execute_input": "2022-08-07T13:59:36.484023Z",
     "iopub.status.busy": "2022-08-07T13:59:36.483177Z",
     "iopub.status.idle": "2022-08-07T13:59:36.515747Z",
     "shell.execute_reply": "2022-08-07T13:59:36.514544Z"
    },
    "papermill": {
     "duration": 0.04474,
     "end_time": "2022-08-07T13:59:36.518618",
     "exception": false,
     "start_time": "2022-08-07T13:59:36.473878",
     "status": "completed"
    },
    "tags": []
   },
   "outputs": [],
   "source": [
    "final_output = final.to_csv('/kaggle/working/submission.csv')"
   ]
  }
 ],
 "metadata": {
  "kernelspec": {
   "display_name": "Python 3",
   "language": "python",
   "name": "python3"
  },
  "language_info": {
   "codemirror_mode": {
    "name": "ipython",
    "version": 3
   },
   "file_extension": ".py",
   "mimetype": "text/x-python",
   "name": "python",
   "nbconvert_exporter": "python",
   "pygments_lexer": "ipython3",
   "version": "3.7.12"
  },
  "papermill": {
   "default_parameters": {},
   "duration": 34.612779,
   "end_time": "2022-08-07T13:59:37.249204",
   "environment_variables": {},
   "exception": null,
   "input_path": "__notebook__.ipynb",
   "output_path": "__notebook__.ipynb",
   "parameters": {},
   "start_time": "2022-08-07T13:59:02.636425",
   "version": "2.3.4"
  }
 },
 "nbformat": 4,
 "nbformat_minor": 5
}
